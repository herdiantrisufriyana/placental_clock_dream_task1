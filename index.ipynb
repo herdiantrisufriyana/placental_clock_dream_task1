{
 "cells": [
  {
   "cell_type": "markdown",
   "id": "9bc447eb-5807-42c7-9301-1890e68c6239",
   "metadata": {},
   "source": [
    "# Programming environment"
   ]
  },
  {
   "cell_type": "code",
   "execution_count": 1,
   "id": "fa371021-7867-4c5e-bf60-33d896f9aab0",
   "metadata": {},
   "outputs": [],
   "source": [
    "seed = 2024-6-10"
   ]
  },
  {
   "cell_type": "code",
   "execution_count": 2,
   "id": "7407a22f-b1b7-41eb-a2fa-cbca797867cc",
   "metadata": {},
   "outputs": [],
   "source": [
    "from sklearn.metrics import mean_squared_error, make_scorer, precision_score"
   ]
  },
  {
   "cell_type": "code",
   "execution_count": 3,
   "id": "0481526d-b4e3-4c59-bb51-237379c99c0b",
   "metadata": {},
   "outputs": [],
   "source": [
    "from utils import train_and_save_model, load_and_predict, load_and_predict_probabilities_by_imp, load_and_predict_probabilities, save_model_coefficients"
   ]
  },
  {
   "cell_type": "code",
   "execution_count": 4,
   "id": "247d3a05-1301-4b2c-8ea5-40dd47d5f990",
   "metadata": {},
   "outputs": [],
   "source": [
    "from sklearn.ensemble import RandomForestClassifier, RandomForestRegressor\n",
    "from sklearn.linear_model import ElasticNet, LogisticRegression\n",
    "\n",
    "# Define models and their parameter grids\n",
    "models_and_params = {\n",
    "    'RandomForestClassifier': {\n",
    "        'model': RandomForestClassifier(random_state=seed),\n",
    "        'param_grid': {\n",
    "            'n_estimators': [50, 100, 200],\n",
    "            'max_depth': [None, 10, 20],\n",
    "            'min_samples_split': [2, 5, 10]\n",
    "        }\n",
    "    },\n",
    "    'RandomForestRegressor': {\n",
    "        'model': RandomForestRegressor(random_state=seed),\n",
    "        'param_grid': {\n",
    "            'n_estimators': [50, 100, 200],\n",
    "            'max_depth': [None, 10, 20],\n",
    "            'min_samples_split': [2, 5, 10]\n",
    "        }\n",
    "    },\n",
    "    'ElasticNet': {\n",
    "        'model': ElasticNet(random_state=seed, max_iter=100000),\n",
    "        'param_grid': {\n",
    "            'alpha': [0.01, 0.1, 1, 10],\n",
    "            'l1_ratio': [0.2, 0.5, 0.8]\n",
    "        }\n",
    "    },\n",
    "    'LogisticElasticNet': {\n",
    "        'model': LogisticRegression(penalty='elasticnet', solver='saga', l1_ratio=0.5, random_state=seed, max_iter=10000),\n",
    "        'param_grid': {\n",
    "            'C': [0.01, 0.1, 1, 10],\n",
    "            'l1_ratio': [0.1, 0.5, 0.9]  # Adjusting l1_ratio close to 1 acts like LASSO, close to 0 acts like Ridge\n",
    "        }\n",
    "    }\n",
    "}"
   ]
  },
  {
   "cell_type": "markdown",
   "id": "6869957f-a211-4f6a-9ef5-fddc212067cb",
   "metadata": {},
   "source": [
    "# Phenotype preprocessing"
   ]
  },
  {
   "cell_type": "markdown",
   "id": "73cc292b-0c74-4e16-9f55-b300dd1303a0",
   "metadata": {},
   "source": [
    "## Phenotype imputation for conditions"
   ]
  },
  {
   "cell_type": "markdown",
   "id": "5c3a3360-e792-47a0-97d1-44046c1c7e79",
   "metadata": {},
   "source": [
    "### FGR imputation"
   ]
  },
  {
   "cell_type": "code",
   "execution_count": null,
   "id": "0824ab47-8b75-4126-97d7-4844ac83344e",
   "metadata": {},
   "outputs": [],
   "source": [
    "prefix = 'fgr_imp'\n",
    "model_name = 'RandomForestClassifier'\n",
    "train_and_save_model(prefix, seed, models_and_params[model_name])"
   ]
  },
  {
   "cell_type": "code",
   "execution_count": null,
   "id": "afd6310f-ccd2-45d2-948a-f3e76ec72ee5",
   "metadata": {},
   "outputs": [],
   "source": [
    "prefix = 'fgr_imp'\n",
    "load_and_predict(prefix)"
   ]
  },
  {
   "cell_type": "markdown",
   "id": "3839334b-c97d-4b3c-9352-c12961984112",
   "metadata": {},
   "source": [
    "### PE imputation"
   ]
  },
  {
   "cell_type": "code",
   "execution_count": null,
   "id": "7442bf7c-1430-41b0-bd81-873ceb4776cf",
   "metadata": {},
   "outputs": [],
   "source": [
    "prefix = 'pe_imp'\n",
    "model_name = 'RandomForestClassifier'\n",
    "train_and_save_model(prefix, seed, models_and_params[model_name])"
   ]
  },
  {
   "cell_type": "code",
   "execution_count": null,
   "id": "a8c13616-2061-4bf0-9a12-6d7b6229c838",
   "metadata": {},
   "outputs": [],
   "source": [
    "prefix = 'pe_imp'\n",
    "load_and_predict(prefix)"
   ]
  },
  {
   "cell_type": "markdown",
   "id": "ef91b650-41b6-45d3-82da-ab0354f33c4b",
   "metadata": {},
   "source": [
    "### PE onset imputation"
   ]
  },
  {
   "cell_type": "code",
   "execution_count": null,
   "id": "b0e4988f-10bd-4f5f-960a-c80725e107fc",
   "metadata": {},
   "outputs": [],
   "source": [
    "prefix = 'pe_onset_imp'\n",
    "model_name = 'RandomForestClassifier'\n",
    "train_and_save_model(prefix, seed, models_and_params[model_name])"
   ]
  },
  {
   "cell_type": "code",
   "execution_count": null,
   "id": "061b98ec-1dfc-4fc3-affe-ff009091fdf6",
   "metadata": {},
   "outputs": [],
   "source": [
    "prefix = 'pe_onset_imp'\n",
    "load_and_predict(prefix)"
   ]
  },
  {
   "cell_type": "markdown",
   "id": "692f8917-0aee-4948-8422-2a8d6e648fde",
   "metadata": {},
   "source": [
    "### HELLP imputation"
   ]
  },
  {
   "cell_type": "code",
   "execution_count": null,
   "id": "5a01a39d-2be1-4156-9cb1-56e175b917c9",
   "metadata": {},
   "outputs": [],
   "source": [
    "prefix = 'hellp_imp'\n",
    "model_name = 'RandomForestClassifier'\n",
    "custom_precision = make_scorer(precision_score, zero_division=0)\n",
    "train_and_save_model(prefix, seed, models_and_params[model_name], cv=3, scoring=custom_precision)"
   ]
  },
  {
   "cell_type": "code",
   "execution_count": null,
   "id": "90d28fd0-6889-4e60-bfa7-b6ef0ace8f62",
   "metadata": {},
   "outputs": [],
   "source": [
    "prefix = 'hellp_imp'\n",
    "load_and_predict(prefix)"
   ]
  },
  {
   "cell_type": "markdown",
   "id": "315b32a3-dd86-414f-b57f-d61b98d9ba18",
   "metadata": {},
   "source": [
    "### Diandric triploid imputation"
   ]
  },
  {
   "cell_type": "code",
   "execution_count": null,
   "id": "86d8e1ee-596a-4edd-9b1e-2b00ccc66704",
   "metadata": {},
   "outputs": [],
   "source": [
    "prefix = 'diandric_triploid_imp'\n",
    "model_name = 'RandomForestClassifier'\n",
    "custom_precision = make_scorer(precision_score, zero_division=0)\n",
    "train_and_save_model(prefix, seed, models_and_params[model_name], cv=2, scoring=custom_precision)"
   ]
  },
  {
   "cell_type": "code",
   "execution_count": null,
   "id": "9bd4220e-442e-479e-955f-2837a23e6a06",
   "metadata": {},
   "outputs": [],
   "source": [
    "prefix = 'diandric_triploid_imp'\n",
    "load_and_predict(prefix)"
   ]
  },
  {
   "cell_type": "markdown",
   "id": "c2a752a9-71ba-4ac5-97ee-f7818beb582c",
   "metadata": {},
   "source": [
    "### Miscarriage imputation"
   ]
  },
  {
   "cell_type": "code",
   "execution_count": null,
   "id": "38fe6cf5-b5d5-4de0-a4d9-4ef243ae1ad7",
   "metadata": {},
   "outputs": [],
   "source": [
    "prefix = 'miscarriage_imp'\n",
    "model_name = 'RandomForestClassifier'\n",
    "custom_precision = make_scorer(precision_score, zero_division=0)\n",
    "train_and_save_model(prefix, seed, models_and_params[model_name], cv=3, scoring=custom_precision)"
   ]
  },
  {
   "cell_type": "code",
   "execution_count": null,
   "id": "6a9eed3d-3563-4534-977c-5cf99576570b",
   "metadata": {},
   "outputs": [],
   "source": [
    "prefix = 'miscarriage_imp'\n",
    "load_and_predict(prefix)"
   ]
  },
  {
   "cell_type": "markdown",
   "id": "41423f79-ea74-4655-8a33-5e5fe0bbad63",
   "metadata": {},
   "source": [
    "### Preterm imputation"
   ]
  },
  {
   "cell_type": "code",
   "execution_count": null,
   "id": "f47e1890-d54f-49cd-aef7-2e4a33b321ce",
   "metadata": {},
   "outputs": [],
   "source": [
    "prefix = 'preterm_imp'\n",
    "model_name = 'RandomForestClassifier'\n",
    "train_and_save_model(prefix, seed, models_and_params[model_name])"
   ]
  },
  {
   "cell_type": "code",
   "execution_count": null,
   "id": "c65a058c-f869-41de-b8e6-cd561e970e6f",
   "metadata": {},
   "outputs": [],
   "source": [
    "prefix = 'preterm_imp'\n",
    "mload_and_predict(prefix)"
   ]
  },
  {
   "cell_type": "markdown",
   "id": "88afcdb8-4824-4074-a740-c506f809e6fa",
   "metadata": {},
   "source": [
    "### GDM imputation"
   ]
  },
  {
   "cell_type": "code",
   "execution_count": null,
   "id": "00603191-7f3d-4516-83f7-dfa6806767c2",
   "metadata": {},
   "outputs": [],
   "source": [
    "prefix = 'gdm_imp'\n",
    "model_name = 'RandomForestClassifier'\n",
    "custom_precision = make_scorer(precision_score, zero_division=0)\n",
    "train_and_save_model(prefix, seed, models_and_params[model_name], cv=5, scoring=custom_precision)"
   ]
  },
  {
   "cell_type": "code",
   "execution_count": null,
   "id": "23292238-ff8e-4dc3-a5a1-ee144d259f55",
   "metadata": {},
   "outputs": [],
   "source": [
    "prefix = 'gdm_imp'\n",
    "load_and_predict(prefix)"
   ]
  },
  {
   "cell_type": "markdown",
   "id": "265bfc99-174d-4403-af95-019a160b6e05",
   "metadata": {},
   "source": [
    "### SGA imputation"
   ]
  },
  {
   "cell_type": "code",
   "execution_count": null,
   "id": "2fe7dafa-414b-4928-b7ad-55e90bc4ac75",
   "metadata": {},
   "outputs": [],
   "source": [
    "prefix = 'sga_imp'\n",
    "model_name = 'RandomForestClassifier'\n",
    "custom_precision = make_scorer(precision_score, zero_division=0)\n",
    "train_and_save_model(prefix, seed, models_and_params[model_name], cv=5, scoring=custom_precision)"
   ]
  },
  {
   "cell_type": "code",
   "execution_count": null,
   "id": "b2ca17ee-bdd7-424f-a4f2-fa58d678be32",
   "metadata": {},
   "outputs": [],
   "source": [
    "prefix = 'sga_imp'\n",
    "load_and_predict(prefix)"
   ]
  },
  {
   "cell_type": "markdown",
   "id": "d8b332e0-7c80-4f26-9bf5-088018d79160",
   "metadata": {},
   "source": [
    "### LGA imputation"
   ]
  },
  {
   "cell_type": "code",
   "execution_count": null,
   "id": "9064c8e2-d2f8-41ac-ac97-2c48d3d00b63",
   "metadata": {},
   "outputs": [],
   "source": [
    "prefix = 'lga_imp'\n",
    "model_name = 'RandomForestClassifier'\n",
    "train_and_save_model(prefix, seed, models_and_params[model_name])"
   ]
  },
  {
   "cell_type": "code",
   "execution_count": null,
   "id": "52b52422-dad1-4943-84c9-5fa9e14cc18a",
   "metadata": {},
   "outputs": [],
   "source": [
    "prefix = 'lga_imp'\n",
    "load_and_predict(prefix)"
   ]
  },
  {
   "cell_type": "markdown",
   "id": "3ec75985-cd46-4f76-a3f9-8a61259dfa7a",
   "metadata": {},
   "source": [
    "### SLGA imputation"
   ]
  },
  {
   "cell_type": "code",
   "execution_count": null,
   "id": "8caf07e8-b521-4d6e-b719-a72a62f1e3f2",
   "metadata": {},
   "outputs": [],
   "source": [
    "prefix = 'slga_imp'\n",
    "model_name = 'RandomForestClassifier'\n",
    "custom_precision = make_scorer(precision_score, zero_division=0)\n",
    "train_and_save_model(prefix, seed, models_and_params[model_name], cv=5, scoring=custom_precision)"
   ]
  },
  {
   "cell_type": "code",
   "execution_count": null,
   "id": "c2c781e7-b953-428e-8094-71eb8bd35582",
   "metadata": {},
   "outputs": [],
   "source": [
    "prefix = 'slga_imp'\n",
    "load_and_predict(prefix)"
   ]
  },
  {
   "cell_type": "markdown",
   "id": "a311dabb-b805-4dcc-ba3b-d97b205b61a1",
   "metadata": {},
   "source": [
    "### IVF imputation"
   ]
  },
  {
   "cell_type": "code",
   "execution_count": null,
   "id": "310d0d1a-ea26-4afa-bed0-e201ab98fc2d",
   "metadata": {},
   "outputs": [],
   "source": [
    "prefix = 'ivf_imp'\n",
    "model_name = 'RandomForestClassifier'\n",
    "custom_precision = make_scorer(precision_score, zero_division=0)\n",
    "train_and_save_model(prefix, seed, models_and_params[model_name], cv=5, scoring=custom_precision)"
   ]
  },
  {
   "cell_type": "code",
   "execution_count": null,
   "id": "8a4437c8-3dd5-4830-afb5-7949a3b74952",
   "metadata": {},
   "outputs": [],
   "source": [
    "prefix = 'ivf_imp'\n",
    "load_and_predict(prefix)"
   ]
  },
  {
   "cell_type": "markdown",
   "id": "4a538a25-52a7-48d8-9744-006fb904ebde",
   "metadata": {},
   "source": [
    "### Subfertility imputation"
   ]
  },
  {
   "cell_type": "code",
   "execution_count": null,
   "id": "c25c2374-9386-4549-9bc9-528f52962cf5",
   "metadata": {},
   "outputs": [],
   "source": [
    "prefix = 'subfertility_imp'\n",
    "model_name = 'RandomForestClassifier'\n",
    "custom_precision = make_scorer(precision_score, zero_division=0)\n",
    "train_and_save_model(prefix, seed, models_and_params[model_name], cv=5, scoring=custom_precision)"
   ]
  },
  {
   "cell_type": "code",
   "execution_count": null,
   "id": "e6785ac4-59d5-42b2-af41-24621e48a151",
   "metadata": {},
   "outputs": [],
   "source": [
    "prefix = 'subfertility_imp'\n",
    "load_and_predict(prefix)"
   ]
  },
  {
   "cell_type": "markdown",
   "id": "3c1a30d0-c13d-4e42-b6ba-4a5f484f416d",
   "metadata": {},
   "source": [
    "### Chorioamnionitis imputation"
   ]
  },
  {
   "cell_type": "code",
   "execution_count": null,
   "id": "fa56e380-8e96-4dc4-880e-ec78162513b5",
   "metadata": {},
   "outputs": [],
   "source": [
    "prefix = 'chorioamnionitis_imp'\n",
    "model_name = 'RandomForestClassifier'\n",
    "train_and_save_model(prefix, seed, models_and_params[model_name])"
   ]
  },
  {
   "cell_type": "code",
   "execution_count": null,
   "id": "1593d427-92a6-4394-919c-33b1b1cb3e77",
   "metadata": {},
   "outputs": [],
   "source": [
    "prefix = 'chorioamnionitis_imp'\n",
    "load_and_predict(prefix)"
   ]
  },
  {
   "cell_type": "markdown",
   "id": "859b797f-e3f9-4ea4-8791-88f2bbd0d5dd",
   "metadata": {},
   "source": [
    "# Predictive modeling"
   ]
  },
  {
   "cell_type": "markdown",
   "id": "0319f2bd-7dcb-40de-812a-8d3177f5ac10",
   "metadata": {},
   "source": [
    "## Model development"
   ]
  },
  {
   "cell_type": "markdown",
   "id": "d98413aa-de33-4d33-9896-fd18a9555e8c",
   "metadata": {},
   "source": [
    "### GA prediction"
   ]
  },
  {
   "cell_type": "code",
   "execution_count": null,
   "id": "660cbb17-969d-46e9-a024-2434d9b0f682",
   "metadata": {},
   "outputs": [],
   "source": [
    "prefix = 'ga_est'\n",
    "model_name = 'ElasticNet'\n",
    "neg_mse_scorer = make_scorer(mean_squared_error, greater_is_better=False)\n",
    "train_and_save_model(prefix, seed, models_and_params[model_name], cv=5, scoring=neg_mse_scorer, task = 'regression')"
   ]
  },
  {
   "cell_type": "code",
   "execution_count": null,
   "id": "aecef5be-5c91-4827-b59f-96bd2e4c4b89",
   "metadata": {},
   "outputs": [],
   "source": [
    "prefix = 'ga_est'\n",
    "load_and_predict(prefix)"
   ]
  },
  {
   "cell_type": "code",
   "execution_count": null,
   "id": "c4327fd5-6690-4a40-9ebb-388cbe16d582",
   "metadata": {},
   "outputs": [],
   "source": [
    "prefix = 'ga_est'\n",
    "save_model_coefficients(prefix)"
   ]
  },
  {
   "cell_type": "markdown",
   "id": "2d39e775-0a78-4b2e-80d7-a967e2983a3c",
   "metadata": {},
   "source": [
    "### FGR prediction"
   ]
  },
  {
   "cell_type": "code",
   "execution_count": null,
   "id": "71985318-94d1-486c-b64e-7688c84eb679",
   "metadata": {},
   "outputs": [],
   "source": [
    "prefix = 'fgr_pred'\n",
    "model_name = 'LogisticElasticNet'\n",
    "custom_precision = make_scorer(precision_score, zero_division=0)\n",
    "train_and_save_model(prefix, seed, models_and_params[model_name], cv=5, scoring=custom_precision)"
   ]
  },
  {
   "cell_type": "code",
   "execution_count": null,
   "id": "b8be4a3f-024d-40d7-a94d-4ea419c98a0a",
   "metadata": {},
   "outputs": [],
   "source": [
    "prefix = 'fgr_pred'\n",
    "load_and_predict_probabilities(prefix)"
   ]
  },
  {
   "cell_type": "code",
   "execution_count": null,
   "id": "c94d39e2-4e9f-4e4c-b9c9-4e24f98e0207",
   "metadata": {},
   "outputs": [],
   "source": [
    "prefix = 'fgr_pred'\n",
    "save_model_coefficients(prefix)"
   ]
  },
  {
   "cell_type": "markdown",
   "id": "85146a26-a8ce-44d0-b0c7-1eb6257a9f01",
   "metadata": {},
   "source": [
    "### PE prediction"
   ]
  },
  {
   "cell_type": "code",
   "execution_count": null,
   "id": "0ce8b113-a2f8-44a2-9141-d65a099ce777",
   "metadata": {},
   "outputs": [],
   "source": [
    "prefix = 'pe_pred'\n",
    "model_name = 'LogisticElasticNet'\n",
    "custom_precision = make_scorer(precision_score, zero_division=0)\n",
    "train_and_save_model(prefix, seed, models_and_params[model_name], cv=5, scoring=custom_precision)"
   ]
  },
  {
   "cell_type": "code",
   "execution_count": null,
   "id": "b355b11a-6f7f-410f-b452-c50cd761cf16",
   "metadata": {},
   "outputs": [],
   "source": [
    "prefix = 'pe_pred'\n",
    "load_and_predict_probabilities(prefix)"
   ]
  },
  {
   "cell_type": "code",
   "execution_count": null,
   "id": "6b9724a4-bcf8-443e-a165-bb7db92891a5",
   "metadata": {},
   "outputs": [],
   "source": [
    "prefix = 'pe_pred'\n",
    "save_model_coefficients(prefix)"
   ]
  },
  {
   "cell_type": "markdown",
   "id": "675bd740-f3db-42e7-a21e-8e2662c4cb47",
   "metadata": {},
   "source": [
    "### PE onset prediction"
   ]
  },
  {
   "cell_type": "code",
   "execution_count": null,
   "id": "f66fac7b-2ca6-4fb3-a66c-4d9853a09274",
   "metadata": {},
   "outputs": [],
   "source": [
    "prefix = 'pe_onset_pred'\n",
    "model_name = 'LogisticElasticNet'\n",
    "custom_precision = make_scorer(precision_score, zero_division=0)\n",
    "train_and_save_model(prefix, seed, models_and_params[model_name], cv=5, scoring=custom_precision)"
   ]
  },
  {
   "cell_type": "code",
   "execution_count": null,
   "id": "1a77f53e-9296-4c50-a806-97f944dafaf9",
   "metadata": {},
   "outputs": [],
   "source": [
    "prefix = 'pe_onset_pred'\n",
    "load_and_predict_probabilities(prefix)"
   ]
  },
  {
   "cell_type": "code",
   "execution_count": null,
   "id": "b40cecd4-2a5b-4e8b-a897-68ee52049da6",
   "metadata": {},
   "outputs": [],
   "source": [
    "prefix = 'pe_onset_pred'\n",
    "save_model_coefficients(prefix)"
   ]
  },
  {
   "cell_type": "markdown",
   "id": "70604a1a-6b81-450a-aa94-6a38b92cbe79",
   "metadata": {},
   "source": [
    "### HELLP prediction"
   ]
  },
  {
   "cell_type": "code",
   "execution_count": null,
   "id": "453a948a-df50-4908-8d63-6abbe895ed97",
   "metadata": {},
   "outputs": [],
   "source": [
    "prefix = 'hellp_pred'\n",
    "model_name = 'LogisticElasticNet'\n",
    "custom_precision = make_scorer(precision_score, zero_division=0)\n",
    "train_and_save_model(prefix, seed, models_and_params[model_name], cv=5, scoring=custom_precision)"
   ]
  },
  {
   "cell_type": "code",
   "execution_count": null,
   "id": "fb0386c1-0f9e-4a21-8a04-d4798b7680a4",
   "metadata": {},
   "outputs": [],
   "source": [
    "prefix = 'hellp_pred'\n",
    "load_and_predict_probabilities(prefix)"
   ]
  },
  {
   "cell_type": "code",
   "execution_count": null,
   "id": "4b09a4aa-423c-432b-92bb-b7a8b814250d",
   "metadata": {},
   "outputs": [],
   "source": [
    "prefix = 'hellp_pred'\n",
    "save_model_coefficients(prefix)"
   ]
  },
  {
   "cell_type": "markdown",
   "id": "c2c7dd7b-3ea6-4f19-a085-d40825cfa1eb",
   "metadata": {},
   "source": [
    "### Anencephaly prediction"
   ]
  },
  {
   "cell_type": "code",
   "execution_count": null,
   "id": "d9b4fc65-b422-415a-8491-661b9270b16a",
   "metadata": {},
   "outputs": [],
   "source": [
    "prefix = 'anencephaly_pred'\n",
    "model_name = 'LogisticElasticNet'\n",
    "custom_precision = make_scorer(precision_score, zero_division=0)\n",
    "train_and_save_model(prefix, seed, models_and_params[model_name], cv=5, scoring=custom_precision)"
   ]
  },
  {
   "cell_type": "code",
   "execution_count": null,
   "id": "821d1664-4bca-4c62-b9a0-15dc29ddda0b",
   "metadata": {},
   "outputs": [],
   "source": [
    "prefix = 'anencephaly_pred'\n",
    "load_and_predict_probabilities(prefix)"
   ]
  },
  {
   "cell_type": "code",
   "execution_count": null,
   "id": "f2d28e75-ad3d-4081-b190-cd187feadb72",
   "metadata": {},
   "outputs": [],
   "source": [
    "prefix = 'anencephaly_pred'\n",
    "save_model_coefficients(prefix)"
   ]
  },
  {
   "cell_type": "markdown",
   "id": "dff57539-8001-43cc-bc30-ab2705f42385",
   "metadata": {},
   "source": [
    "### Spina bifida prediction"
   ]
  },
  {
   "cell_type": "code",
   "execution_count": null,
   "id": "13dd82bb-68c3-4976-b704-5380678d711e",
   "metadata": {},
   "outputs": [],
   "source": [
    "prefix = 'spina_bifida_pred'\n",
    "model_name = 'LogisticElasticNet'\n",
    "custom_precision = make_scorer(precision_score, zero_division=0)\n",
    "train_and_save_model(prefix, seed, models_and_params[model_name], cv=5, scoring=custom_precision)"
   ]
  },
  {
   "cell_type": "code",
   "execution_count": null,
   "id": "e57dcfd3-fe57-4040-b2d0-91550deb2a7a",
   "metadata": {},
   "outputs": [],
   "source": [
    "prefix = 'spina_bifida_pred'\n",
    "load_and_predict_probabilities(prefix)"
   ]
  },
  {
   "cell_type": "code",
   "execution_count": null,
   "id": "d3c7e779-97b3-44b3-82ba-923843501cf8",
   "metadata": {},
   "outputs": [],
   "source": [
    "prefix = 'spina_bifida_pred'\n",
    "save_model_coefficients(prefix)"
   ]
  },
  {
   "cell_type": "markdown",
   "id": "6708cea7-e6dc-47dc-bcbd-0012ed9b31b5",
   "metadata": {},
   "source": [
    "### Diandric triploid prediction"
   ]
  },
  {
   "cell_type": "code",
   "execution_count": null,
   "id": "68df38f1-b3c8-4ff3-94cc-612fc37cd4de",
   "metadata": {},
   "outputs": [],
   "source": [
    "prefix = 'diandric_triploid_pred'\n",
    "model_name = 'LogisticElasticNet'\n",
    "custom_precision = make_scorer(precision_score, zero_division=0)\n",
    "train_and_save_model(prefix, seed, models_and_params[model_name], cv=5, scoring=custom_precision)"
   ]
  },
  {
   "cell_type": "code",
   "execution_count": null,
   "id": "170377d5-9083-4e72-b079-24aa8fb488ff",
   "metadata": {},
   "outputs": [],
   "source": [
    "prefix = 'diandric_triploid_pred'\n",
    "load_and_predict_probabilities(prefix)"
   ]
  },
  {
   "cell_type": "code",
   "execution_count": null,
   "id": "0db402f8-5b9e-4baa-b38d-f5067b6dc38c",
   "metadata": {},
   "outputs": [],
   "source": [
    "prefix = 'diandric_triploid_pred'\n",
    "save_model_coefficients(prefix)"
   ]
  },
  {
   "cell_type": "markdown",
   "id": "923893f4-dae8-4989-8aa8-92f59e9dbda3",
   "metadata": {},
   "source": [
    "### Miscarriage prediction"
   ]
  },
  {
   "cell_type": "code",
   "execution_count": null,
   "id": "f24ef42f-1ddb-4a84-8875-6b8382b70bf7",
   "metadata": {},
   "outputs": [],
   "source": [
    "prefix = 'miscarriage_pred'\n",
    "model_name = 'LogisticElasticNet'\n",
    "custom_precision = make_scorer(precision_score, zero_division=0)\n",
    "train_and_save_model(prefix, seed, models_and_params[model_name], cv=5, scoring=custom_precision)"
   ]
  },
  {
   "cell_type": "code",
   "execution_count": null,
   "id": "3692d96d-4dc7-40f4-afc2-72f9cea88cb1",
   "metadata": {},
   "outputs": [],
   "source": [
    "prefix = 'miscarriage_pred'\n",
    "load_and_predict_probabilities(prefix)"
   ]
  },
  {
   "cell_type": "code",
   "execution_count": null,
   "id": "230ef238-20b8-4bc0-857f-56a8eb12c1f0",
   "metadata": {},
   "outputs": [],
   "source": [
    "prefix = 'miscarriage_pred'\n",
    "save_model_coefficients(prefix)"
   ]
  },
  {
   "cell_type": "markdown",
   "id": "f1110076-75ba-47af-a507-b74fb2bbdc09",
   "metadata": {},
   "source": [
    "### Preterm prediction"
   ]
  },
  {
   "cell_type": "code",
   "execution_count": null,
   "id": "a3ff2856-260b-41a3-b3f7-12db523ce4f3",
   "metadata": {},
   "outputs": [],
   "source": [
    "prefix = 'preterm_pred'\n",
    "model_name = 'LogisticElasticNet'\n",
    "custom_precision = make_scorer(precision_score, zero_division=0)\n",
    "train_and_save_model(prefix, seed, models_and_params[model_name], cv=5, scoring=custom_precision)"
   ]
  },
  {
   "cell_type": "code",
   "execution_count": null,
   "id": "e48b5e86-3d09-4047-b374-26323f115d70",
   "metadata": {},
   "outputs": [],
   "source": [
    "prefix = 'preterm_pred'\n",
    "load_and_predict_probabilities(prefix)"
   ]
  },
  {
   "cell_type": "code",
   "execution_count": null,
   "id": "e5f63ae1-5188-4fff-8b9d-b99fe23f437e",
   "metadata": {},
   "outputs": [],
   "source": [
    "prefix = 'preterm_pred'\n",
    "save_model_coefficients(prefix)"
   ]
  },
  {
   "cell_type": "markdown",
   "id": "ec137097-7223-4bee-9771-ad5dcca7996b",
   "metadata": {},
   "source": [
    "### GDM prediction"
   ]
  },
  {
   "cell_type": "code",
   "execution_count": null,
   "id": "a0805f77-b7c6-4521-ae19-5cf5b66271d7",
   "metadata": {},
   "outputs": [],
   "source": [
    "prefix = 'gdm_pred'\n",
    "model_name = 'LogisticElasticNet'\n",
    "custom_precision = make_scorer(precision_score, zero_division=0)\n",
    "train_and_save_model(prefix, seed, models_and_params[model_name], cv=5, scoring=custom_precision)"
   ]
  },
  {
   "cell_type": "code",
   "execution_count": null,
   "id": "1d60a573-e5ae-40ee-a0e9-040999cad72d",
   "metadata": {},
   "outputs": [],
   "source": [
    "prefix = 'gdm_pred'\n",
    "load_and_predict_probabilities(prefix)"
   ]
  },
  {
   "cell_type": "code",
   "execution_count": null,
   "id": "4d0d93c1-f713-48b2-a606-762d8581e262",
   "metadata": {},
   "outputs": [],
   "source": [
    "prefix = 'gdm_pred'\n",
    "save_model_coefficients(prefix)"
   ]
  },
  {
   "cell_type": "markdown",
   "id": "9799ea57-fb08-43b9-9aa2-469b5f0eb189",
   "metadata": {},
   "source": [
    "### LGA prediction"
   ]
  },
  {
   "cell_type": "code",
   "execution_count": null,
   "id": "dafb3903-f9bc-4c07-a3f1-a414f6d37c71",
   "metadata": {},
   "outputs": [],
   "source": [
    "prefix = 'lga_pred'\n",
    "model_name = 'LogisticElasticNet'\n",
    "custom_precision = make_scorer(precision_score, zero_division=0)\n",
    "train_and_save_model(prefix, seed, models_and_params[model_name], cv=5, scoring=custom_precision)"
   ]
  },
  {
   "cell_type": "code",
   "execution_count": null,
   "id": "d7ba3d47-0665-44f3-a089-8dbde321782c",
   "metadata": {},
   "outputs": [],
   "source": [
    "prefix = 'lga_pred'\n",
    "load_and_predict_probabilities(prefix)"
   ]
  },
  {
   "cell_type": "code",
   "execution_count": null,
   "id": "ebd2b3b1-93b4-43ab-9fd3-87e0f325ed97",
   "metadata": {},
   "outputs": [],
   "source": [
    "prefix = 'lga_pred'\n",
    "save_model_coefficients(prefix)"
   ]
  },
  {
   "cell_type": "markdown",
   "id": "098c8235-0c57-44fc-a84b-e6aa4950e825",
   "metadata": {},
   "source": [
    "### Subfertility prediction"
   ]
  },
  {
   "cell_type": "code",
   "execution_count": null,
   "id": "73e768df-f328-4093-afc5-e21c17286931",
   "metadata": {},
   "outputs": [],
   "source": [
    "prefix = 'subfertility_pred'\n",
    "model_name = 'LogisticElasticNet'\n",
    "custom_precision = make_scorer(precision_score, zero_division=0)\n",
    "train_and_save_model(prefix, seed, models_and_params[model_name], cv=5, scoring=custom_precision)"
   ]
  },
  {
   "cell_type": "code",
   "execution_count": null,
   "id": "df31ca44-fc13-4c6b-a792-25b7f1567114",
   "metadata": {},
   "outputs": [],
   "source": [
    "prefix = 'subfertility_pred'\n",
    "load_and_predict_probabilities(prefix)"
   ]
  },
  {
   "cell_type": "code",
   "execution_count": null,
   "id": "2bb60886-7601-468a-bc6f-2bfdbb2800a0",
   "metadata": {},
   "outputs": [],
   "source": [
    "prefix = 'subfertility_pred'\n",
    "save_model_coefficients(prefix)"
   ]
  },
  {
   "cell_type": "markdown",
   "id": "30675a45-5d7a-4771-8f0a-4862d94ff4cc",
   "metadata": {},
   "source": [
    "### Choriamnionitis prediction"
   ]
  },
  {
   "cell_type": "code",
   "execution_count": null,
   "id": "69afdc76-c098-4ed5-bc73-b57bff5dbe98",
   "metadata": {},
   "outputs": [],
   "source": [
    "prefix = 'chorioamnionitis_pred'\n",
    "model_name = 'LogisticElasticNet'\n",
    "custom_precision = make_scorer(precision_score, zero_division=0)\n",
    "train_and_save_model(prefix, seed, models_and_params[model_name], cv=5, scoring=custom_precision)"
   ]
  },
  {
   "cell_type": "code",
   "execution_count": null,
   "id": "d4a603f7-f506-46ea-bb6e-6cc82a99a6fa",
   "metadata": {},
   "outputs": [],
   "source": [
    "prefix = 'chorioamnionitis_pred'\n",
    "load_and_predict_probabilities(prefix)"
   ]
  },
  {
   "cell_type": "code",
   "execution_count": null,
   "id": "81c61be0-4dc4-49e7-8bf8-7b8fa6c1e5c1",
   "metadata": {},
   "outputs": [],
   "source": [
    "prefix = 'chorioamnionitis_pred'\n",
    "save_model_coefficients(prefix)"
   ]
  },
  {
   "cell_type": "markdown",
   "id": "37fc43c1-095c-45d1-bc18-b2d89c1d8f88",
   "metadata": {},
   "source": [
    "### GA residual prediction"
   ]
  },
  {
   "cell_type": "code",
   "execution_count": null,
   "id": "9326c3a5-9f9c-43eb-830b-30c3497bcf86",
   "metadata": {},
   "outputs": [],
   "source": [
    "prefix = 'fgr'\n",
    "model_name = 'RandomForestClassifier'\n",
    "load_and_predict_probabilities_by_imp(prefix)"
   ]
  },
  {
   "cell_type": "code",
   "execution_count": null,
   "id": "58602688-6110-4ec4-9c8b-92651e0e0d12",
   "metadata": {},
   "outputs": [],
   "source": [
    "prefix = 'pe'\n",
    "model_name = 'RandomForestClassifier'\n",
    "load_and_predict_probabilities_by_imp(prefix)"
   ]
  },
  {
   "cell_type": "code",
   "execution_count": null,
   "id": "612c55e7-8296-437a-8dc3-393c5305a8b4",
   "metadata": {},
   "outputs": [],
   "source": [
    "prefix = 'pe_onset'\n",
    "model_name = 'RandomForestClassifier'\n",
    "load_and_predict_probabilities_by_imp(prefix)"
   ]
  },
  {
   "cell_type": "code",
   "execution_count": null,
   "id": "5cd049ad-546e-4b06-9cf1-bfa9c91506bd",
   "metadata": {},
   "outputs": [],
   "source": [
    "prefix = 'hellp'\n",
    "model_name = 'RandomForestClassifier'\n",
    "load_and_predict_probabilities_by_imp(prefix)"
   ]
  },
  {
   "cell_type": "code",
   "execution_count": null,
   "id": "96ded3f2-2f20-4cdf-a9c7-84ae62e1a609",
   "metadata": {},
   "outputs": [],
   "source": [
    "prefix = 'anencephaly_imp'\n",
    "model_name = 'RandomForestClassifier'\n",
    "custom_precision = make_scorer(precision_score, zero_division=0)\n",
    "train_and_save_model(prefix, seed, models_and_params[model_name], cv=3, scoring=custom_precision)"
   ]
  },
  {
   "cell_type": "code",
   "execution_count": null,
   "id": "153acb28-174f-43df-84cc-f9d1351cad65",
   "metadata": {},
   "outputs": [],
   "source": [
    "prefix = 'anencephaly'\n",
    "model_name = 'RandomForestClassifier'\n",
    "load_and_predict_probabilities_by_imp(prefix)"
   ]
  },
  {
   "cell_type": "code",
   "execution_count": null,
   "id": "e276f7f1-eb1d-47fe-a5bc-229701a93b4d",
   "metadata": {},
   "outputs": [],
   "source": [
    "prefix = 'spina_bifida_imp'\n",
    "model_name = 'RandomForestClassifier'\n",
    "train_and_save_model(prefix, seed, models_and_params[model_name])"
   ]
  },
  {
   "cell_type": "code",
   "execution_count": null,
   "id": "550c57e0-628d-4edb-971d-8716eafb070e",
   "metadata": {},
   "outputs": [],
   "source": [
    "prefix = 'spina_bifida'\n",
    "model_name = 'RandomForestClassifier'\n",
    "load_and_predict_probabilities_by_imp(prefix)"
   ]
  },
  {
   "cell_type": "code",
   "execution_count": null,
   "id": "a998f336-be70-4e58-9db3-54392127108a",
   "metadata": {},
   "outputs": [],
   "source": [
    "prefix = 'diandric_triploid'\n",
    "model_name = 'RandomForestClassifier'\n",
    "load_and_predict_probabilities_by_imp(prefix)"
   ]
  },
  {
   "cell_type": "code",
   "execution_count": null,
   "id": "0aaba2c2-cdcf-4186-8594-41d0246eead8",
   "metadata": {},
   "outputs": [],
   "source": [
    "prefix = 'miscarriage'\n",
    "model_name = 'RandomForestClassifier'\n",
    "load_and_predict_probabilities_by_imp(prefix)"
   ]
  },
  {
   "cell_type": "code",
   "execution_count": null,
   "id": "dd185b3d-6a06-430c-9320-0a8fd6f1a913",
   "metadata": {},
   "outputs": [],
   "source": [
    "prefix = 'preterm'\n",
    "model_name = 'RandomForestClassifier'\n",
    "load_and_predict_probabilities_by_imp(prefix)"
   ]
  },
  {
   "cell_type": "code",
   "execution_count": null,
   "id": "2293a94d-eb61-408e-913b-289359d2e061",
   "metadata": {},
   "outputs": [],
   "source": [
    "prefix = 'gdm'\n",
    "model_name = 'RandomForestClassifier'\n",
    "load_and_predict_probabilities_by_imp(prefix)"
   ]
  },
  {
   "cell_type": "code",
   "execution_count": null,
   "id": "6809b9f9-aa17-4fd9-bcc1-947562ed98fc",
   "metadata": {},
   "outputs": [],
   "source": [
    "prefix = 'lga'\n",
    "model_name = 'RandomForestClassifier'\n",
    "load_and_predict_probabilities_by_imp(prefix)"
   ]
  },
  {
   "cell_type": "code",
   "execution_count": null,
   "id": "60d1f25a-6dcd-4914-80d4-77b1be172ec2",
   "metadata": {},
   "outputs": [],
   "source": [
    "prefix = 'subfertility'\n",
    "model_name = 'RandomForestClassifier'\n",
    "load_and_predict_probabilities_by_imp(prefix)"
   ]
  },
  {
   "cell_type": "code",
   "execution_count": null,
   "id": "f63c8d2f-86b3-4dea-92e0-4e1ea1c7ef05",
   "metadata": {},
   "outputs": [],
   "source": [
    "prefix = 'chorioamnionitis'\n",
    "model_name = 'RandomForestClassifier'\n",
    "load_and_predict_probabilities_by_imp(prefix)"
   ]
  },
  {
   "cell_type": "markdown",
   "id": "31c42c09-1256-4aba-8eed-58c74f696f09",
   "metadata": {},
   "source": [
    "### GA res-true-conds prediction"
   ]
  },
  {
   "cell_type": "markdown",
   "id": "b69ce0b3-b42e-48f2-b260-ef869b047f51",
   "metadata": {},
   "source": [
    "#### GA res-true-conds elastic net"
   ]
  },
  {
   "cell_type": "code",
   "execution_count": null,
   "id": "545deaba-7fe8-42dd-9f4d-8ec0d0f12d22",
   "metadata": {},
   "outputs": [],
   "source": [
    "prefix = 'ga_rtc_est'\n",
    "model_name = 'ElasticNet'\n",
    "neg_mse_scorer = make_scorer(mean_squared_error, greater_is_better=False)\n",
    "train_and_save_model(prefix, seed, models_and_params[model_name], cv=5, scoring=neg_mse_scorer, task = 'regression')"
   ]
  },
  {
   "cell_type": "code",
   "execution_count": null,
   "id": "97efe07c-c2b8-4498-bac2-2da73eca36f9",
   "metadata": {},
   "outputs": [],
   "source": [
    "prefix = 'ga_rtc_est'\n",
    "load_and_predict(prefix)"
   ]
  },
  {
   "cell_type": "markdown",
   "id": "29770879-7e9b-4635-9354-1a29df7f860f",
   "metadata": {},
   "source": [
    "#### GA res-true-conds random forest"
   ]
  },
  {
   "cell_type": "code",
   "execution_count": null,
   "id": "4517bfa9-ad54-4cef-841c-a3a8ad8a33f7",
   "metadata": {
    "scrolled": true
   },
   "outputs": [],
   "source": [
    "prefix = 'ga_rtc_rf_est'\n",
    "model_name = 'RandomForestRegressor'\n",
    "train_and_save_model(prefix, seed, models_and_params[model_name], task = 'regression')"
   ]
  },
  {
   "cell_type": "code",
   "execution_count": null,
   "id": "13810a64-197a-412e-ab48-8a2a40315267",
   "metadata": {},
   "outputs": [],
   "source": [
    "prefix = 'ga_rtc_rf_est'\n",
    "load_and_predict(prefix)"
   ]
  },
  {
   "cell_type": "markdown",
   "id": "2d0de2c8-22ad-4056-b198-97772fbd49ae",
   "metadata": {},
   "source": [
    "### GA residual prediction"
   ]
  },
  {
   "cell_type": "markdown",
   "id": "664b4977-ee50-4892-9eac-330bf748807e",
   "metadata": {},
   "source": [
    "#### GA residual elastic net"
   ]
  },
  {
   "cell_type": "code",
   "execution_count": null,
   "id": "10a0ff68-f6e7-4f26-ba93-e4d35a26423e",
   "metadata": {},
   "outputs": [],
   "source": [
    "prefix = 'ga_res_est'\n",
    "model_name = 'ElasticNet'\n",
    "neg_mse_scorer = make_scorer(mean_squared_error, greater_is_better=False)\n",
    "train_and_save_model(prefix, seed, models_and_params[model_name], cv=5, scoring=neg_mse_scorer, task = 'regression')"
   ]
  },
  {
   "cell_type": "code",
   "execution_count": null,
   "id": "45de6311-a4ff-4e7c-8b08-4ca7276e07c0",
   "metadata": {},
   "outputs": [],
   "source": [
    "prefix = 'ga_res_est'\n",
    "load_and_predict(prefix)"
   ]
  },
  {
   "cell_type": "markdown",
   "id": "8a5327bc-3bc9-4d6f-8201-411b329d3e36",
   "metadata": {},
   "source": [
    "#### GA residual random forest"
   ]
  },
  {
   "cell_type": "code",
   "execution_count": null,
   "id": "fb6a2211-ea10-4771-9a89-a897dbdf1fae",
   "metadata": {},
   "outputs": [],
   "source": [
    "prefix = 'ga_res_rf_est'\n",
    "model_name = 'RandomForestRegressor'\n",
    "train_and_save_model(prefix, seed, models_and_params[model_name], task = 'regression')"
   ]
  },
  {
   "cell_type": "code",
   "execution_count": null,
   "id": "ef3104ab-3444-4bce-9f07-479b7d55637f",
   "metadata": {},
   "outputs": [],
   "source": [
    "prefix = 'ga_res_rf_est'\n",
    "load_and_predict(prefix)"
   ]
  },
  {
   "cell_type": "markdown",
   "id": "cdbea5d8-4c05-4fa8-af96-5d24c8aa86ff",
   "metadata": {
    "jp-MarkdownHeadingCollapsed": true
   },
   "source": [
    "### GA res-comp-risk prediction"
   ]
  },
  {
   "cell_type": "markdown",
   "id": "18b7b486-a93d-44cb-950d-93c8cffa7a0f",
   "metadata": {},
   "source": [
    "#### GA res-comp-risk elastic net"
   ]
  },
  {
   "cell_type": "code",
   "execution_count": null,
   "id": "43c10a25-2414-48de-8966-518efb739a28",
   "metadata": {},
   "outputs": [],
   "source": [
    "prefix = 'ga_res_cr_est'\n",
    "model_name = 'ElasticNet'\n",
    "neg_mse_scorer = make_scorer(mean_squared_error, greater_is_better=False)\n",
    "train_and_save_model(prefix, seed, models_and_params[model_name], cv=5, scoring=neg_mse_scorer, task = 'regression')"
   ]
  },
  {
   "cell_type": "code",
   "execution_count": null,
   "id": "cdbed715-21fd-4e17-819f-f9c837bdbb8e",
   "metadata": {},
   "outputs": [],
   "source": [
    "prefix = 'ga_res_cr_est'\n",
    "load_and_predict(prefix)"
   ]
  },
  {
   "cell_type": "markdown",
   "id": "f3018262-3ff9-4074-8043-f557c78399c0",
   "metadata": {},
   "source": [
    "#### GA res-comp-risk random forest"
   ]
  },
  {
   "cell_type": "code",
   "execution_count": null,
   "id": "6c2c45e9-6b23-494a-85d5-5dd12fc573e9",
   "metadata": {},
   "outputs": [],
   "source": [
    "prefix = 'ga_res_cr_rf_est'\n",
    "model_name = 'RandomForestRegressor'\n",
    "train_and_save_model(prefix, seed, models_and_params[model_name], task = 'regression')"
   ]
  },
  {
   "cell_type": "code",
   "execution_count": null,
   "id": "65f9380a-3a11-451e-af7d-b76508bf4307",
   "metadata": {},
   "outputs": [],
   "source": [
    "prefix = 'ga_res_cr_rf_est'\n",
    "load_and_predict(prefix)"
   ]
  },
  {
   "cell_type": "markdown",
   "id": "afb394db-077c-4619-a356-0e61c3c2bf0f",
   "metadata": {
    "jp-MarkdownHeadingCollapsed": true
   },
   "source": [
    "### GA res-full prediction"
   ]
  },
  {
   "cell_type": "markdown",
   "id": "f9572ef6-7738-4529-93d7-9a7e0d42b3e5",
   "metadata": {},
   "source": [
    "#### GA res-full elastic net"
   ]
  },
  {
   "cell_type": "code",
   "execution_count": null,
   "id": "04932f7c-3c7b-413e-85ce-44f681a39648",
   "metadata": {},
   "outputs": [],
   "source": [
    "prefix = 'ga_resfull_est'\n",
    "model_name = 'ElasticNet'\n",
    "neg_mse_scorer = make_scorer(mean_squared_error, greater_is_better=False)\n",
    "train_and_save_model(prefix, seed, models_and_params[model_name], cv=5, scoring=neg_mse_scorer, task = 'regression')"
   ]
  },
  {
   "cell_type": "code",
   "execution_count": null,
   "id": "5684dd98-e70f-4559-b121-af5b791eb7ab",
   "metadata": {},
   "outputs": [],
   "source": [
    "prefix = 'ga_resfull_est'\n",
    "load_and_predict(prefix)"
   ]
  },
  {
   "cell_type": "markdown",
   "id": "c6b4ad6f-524b-4dd5-b9a2-9eb7612e1450",
   "metadata": {},
   "source": [
    "#### GA res-full random forest"
   ]
  },
  {
   "cell_type": "code",
   "execution_count": null,
   "id": "0e4d36b8-fae5-44b1-8c75-19ef78ec8803",
   "metadata": {},
   "outputs": [],
   "source": [
    "prefix = 'ga_resfull_rf_est'\n",
    "model_name = 'RandomForestRegressor'\n",
    "neg_mse_scorer = make_scorer(mean_squared_error, greater_is_better=False)\n",
    "train_and_save_model(prefix, seed, models_and_params[model_name], cv=5, scoring=neg_mse_scorer, task = 'regression')"
   ]
  },
  {
   "cell_type": "code",
   "execution_count": null,
   "id": "8bda5545-3103-48a6-9428-9fd5a71d0183",
   "metadata": {},
   "outputs": [],
   "source": [
    "prefix = 'ga_resfull_rf_est'\n",
    "load_and_predict(prefix)"
   ]
  },
  {
   "cell_type": "markdown",
   "id": "cd5a8eb2-bc1c-4122-bc6e-0b26ac4d30d3",
   "metadata": {
    "jp-MarkdownHeadingCollapsed": true
   },
   "source": [
    "### GA res-seq-risk prediction"
   ]
  },
  {
   "cell_type": "markdown",
   "id": "dd0adbaa-fcb2-40cd-baf9-97e745550447",
   "metadata": {},
   "source": [
    "#### GA res-seq-risk elastic net"
   ]
  },
  {
   "cell_type": "code",
   "execution_count": null,
   "id": "e5354886-5885-4696-a4f7-74716dfadec9",
   "metadata": {},
   "outputs": [],
   "source": [
    "prefix = 'ga_res_sr1_est'\n",
    "model_name = 'ElasticNet'\n",
    "neg_mse_scorer = make_scorer(mean_squared_error, greater_is_better=False)\n",
    "train_and_save_model(prefix, seed, models_and_params[model_name], cv=5, scoring=neg_mse_scorer, task = 'regression')"
   ]
  },
  {
   "cell_type": "code",
   "execution_count": null,
   "id": "3fc115f0-d13b-4fad-ab8f-64e033608042",
   "metadata": {},
   "outputs": [],
   "source": [
    "prefix = 'ga_res_sr1_est'\n",
    "load_and_predict(prefix)"
   ]
  },
  {
   "cell_type": "code",
   "execution_count": null,
   "id": "b266a5bb-97c7-4472-aa02-047b460182b2",
   "metadata": {},
   "outputs": [],
   "source": [
    "prefix = 'ga_res_sr2_est'\n",
    "model_name = 'ElasticNet'\n",
    "neg_mse_scorer = make_scorer(mean_squared_error, greater_is_better=False)\n",
    "train_and_save_model(prefix, seed, models_and_params[model_name], cv=5, scoring=neg_mse_scorer, task = 'regression')"
   ]
  },
  {
   "cell_type": "code",
   "execution_count": null,
   "id": "ed617200-25b2-4a1a-a4b2-139681ddf7dd",
   "metadata": {},
   "outputs": [],
   "source": [
    "prefix = 'ga_res_sr2_est'\n",
    "load_and_predict(prefix)"
   ]
  },
  {
   "cell_type": "code",
   "execution_count": null,
   "id": "968b8a12-9ef5-442b-8bfb-94841f6b69a4",
   "metadata": {},
   "outputs": [],
   "source": [
    "prefix = 'ga_res_sr3_est'\n",
    "model_name = 'ElasticNet'\n",
    "neg_mse_scorer = make_scorer(mean_squared_error, greater_is_better=False)\n",
    "train_and_save_model(prefix, seed, models_and_params[model_name], cv=5, scoring=neg_mse_scorer, task = 'regression')"
   ]
  },
  {
   "cell_type": "code",
   "execution_count": null,
   "id": "756177aa-de96-402e-9eef-eef34729d61b",
   "metadata": {},
   "outputs": [],
   "source": [
    "prefix = 'ga_res_sr3_est'\n",
    "load_and_predict(prefix)"
   ]
  },
  {
   "cell_type": "code",
   "execution_count": null,
   "id": "faf7dd28-157a-4d46-9aac-26ccbbe3df20",
   "metadata": {},
   "outputs": [],
   "source": [
    "prefix = 'ga_res_sr4_est'\n",
    "model_name = 'ElasticNet'\n",
    "neg_mse_scorer = make_scorer(mean_squared_error, greater_is_better=False)\n",
    "train_and_save_model(prefix, seed, models_and_params[model_name], cv=5, scoring=neg_mse_scorer, task = 'regression')"
   ]
  },
  {
   "cell_type": "code",
   "execution_count": null,
   "id": "bdd3b9ed-9502-4ed5-93cc-71204f6fc47e",
   "metadata": {},
   "outputs": [],
   "source": [
    "prefix = 'ga_res_sr4_est'\n",
    "load_and_predict(prefix)"
   ]
  },
  {
   "cell_type": "code",
   "execution_count": null,
   "id": "44236441-4bd8-4a0e-882c-f9dd9476b236",
   "metadata": {},
   "outputs": [],
   "source": [
    "prefix = 'ga_res_sr_est'\n",
    "model_name = 'ElasticNet'\n",
    "neg_mse_scorer = make_scorer(mean_squared_error, greater_is_better=False)\n",
    "train_and_save_model(prefix, seed, models_and_params[model_name], cv=5, scoring=neg_mse_scorer, task = 'regression')"
   ]
  },
  {
   "cell_type": "code",
   "execution_count": null,
   "id": "7d320fa0-c37f-4483-80ce-85401c2c338f",
   "metadata": {},
   "outputs": [],
   "source": [
    "prefix = 'ga_res_sr_est'\n",
    "load_and_predict(prefix)"
   ]
  },
  {
   "cell_type": "markdown",
   "id": "a1d45e72-dc1d-4017-b2dd-ca13251189e4",
   "metadata": {},
   "source": [
    "#### GA res-seq-risk random forest"
   ]
  },
  {
   "cell_type": "code",
   "execution_count": null,
   "id": "0421cf99-78f2-4cf7-b251-5b518326038b",
   "metadata": {},
   "outputs": [],
   "source": [
    "prefix = 'ga_res_sr1_rf_est'\n",
    "model_name = 'RandomForestRegressor'\n",
    "neg_mse_scorer = make_scorer(mean_squared_error, greater_is_better=False)\n",
    "train_and_save_model(prefix, seed, models_and_params[model_name], cv=5, scoring=neg_mse_scorer, task = 'regression')"
   ]
  },
  {
   "cell_type": "code",
   "execution_count": null,
   "id": "c9f7f5d3-04fd-46c5-9d37-614d5b6ba3f1",
   "metadata": {},
   "outputs": [],
   "source": [
    "prefix = 'ga_res_sr1_rf_est'\n",
    "load_and_predict(prefix)"
   ]
  },
  {
   "cell_type": "code",
   "execution_count": null,
   "id": "086ee955-811b-4418-993e-d070bf3099ce",
   "metadata": {},
   "outputs": [],
   "source": [
    "prefix = 'ga_res_sr2_rf_est'\n",
    "model_name = 'RandomForestRegressor'\n",
    "neg_mse_scorer = make_scorer(mean_squared_error, greater_is_better=False)\n",
    "train_and_save_model(prefix, seed, models_and_params[model_name], cv=5, scoring=neg_mse_scorer, task = 'regression')"
   ]
  },
  {
   "cell_type": "code",
   "execution_count": null,
   "id": "fb490a50-e20b-4b8b-98b2-b1cc71bed49d",
   "metadata": {},
   "outputs": [],
   "source": [
    "prefix = 'ga_res_sr2_rf_est'\n",
    "load_and_predict(prefix)"
   ]
  },
  {
   "cell_type": "code",
   "execution_count": null,
   "id": "420cb79e-9322-4a52-a9b4-5764cf8acb3b",
   "metadata": {},
   "outputs": [],
   "source": [
    "prefix = 'ga_res_sr3_rf_est'\n",
    "model_name = 'RandomForestRegressor'\n",
    "neg_mse_scorer = make_scorer(mean_squared_error, greater_is_better=False)\n",
    "train_and_save_model(prefix, seed, models_and_params[model_name], cv=5, scoring=neg_mse_scorer, task = 'regression')"
   ]
  },
  {
   "cell_type": "code",
   "execution_count": null,
   "id": "12f971b0-3ec0-443e-95c7-ed7b9b55edaf",
   "metadata": {},
   "outputs": [],
   "source": [
    "prefix = 'ga_res_sr3_rf_est'\n",
    "load_and_predict(prefix)"
   ]
  },
  {
   "cell_type": "code",
   "execution_count": null,
   "id": "34766dcd-4b90-405c-a451-5ff041288205",
   "metadata": {},
   "outputs": [],
   "source": [
    "prefix = 'ga_res_sr4_rf_est'\n",
    "model_name = 'RandomForestRegressor'\n",
    "neg_mse_scorer = make_scorer(mean_squared_error, greater_is_better=False)\n",
    "train_and_save_model(prefix, seed, models_and_params[model_name], cv=5, scoring=neg_mse_scorer, task = 'regression')"
   ]
  },
  {
   "cell_type": "code",
   "execution_count": null,
   "id": "fe1829a6-6c20-4d59-8f72-a1ef63dbe44b",
   "metadata": {},
   "outputs": [],
   "source": [
    "prefix = 'ga_res_sr4_rf_est'\n",
    "load_and_predict(prefix)"
   ]
  },
  {
   "cell_type": "code",
   "execution_count": null,
   "id": "2991f59a-951d-4224-9d0e-19d5d0c10f55",
   "metadata": {},
   "outputs": [],
   "source": [
    "prefix = 'ga_res_sr_rf_est'\n",
    "model_name = 'RandomForestRegressor'\n",
    "neg_mse_scorer = make_scorer(mean_squared_error, greater_is_better=False)\n",
    "train_and_save_model(prefix, seed, models_and_params[model_name], cv=5, scoring=neg_mse_scorer, task = 'regression')"
   ]
  },
  {
   "cell_type": "code",
   "execution_count": null,
   "id": "ef4fe4f1-07cd-42db-bce3-a7ab5e1995a2",
   "metadata": {},
   "outputs": [],
   "source": [
    "prefix = 'ga_res_sr_rf_est'\n",
    "load_and_predict(prefix)"
   ]
  },
  {
   "cell_type": "markdown",
   "id": "d17be459-a9cc-42c6-a9c0-cf3098f7ee33",
   "metadata": {},
   "source": [
    "### GA res-cpg prediction"
   ]
  },
  {
   "cell_type": "code",
   "execution_count": null,
   "id": "6da1115d-625d-47b7-ac33-b99313c2b4db",
   "metadata": {},
   "outputs": [],
   "source": [
    "prefix = 'ga_res_cpg_pr_est'\n",
    "model_name = 'ElasticNet'\n",
    "neg_mse_scorer = make_scorer(mean_squared_error, greater_is_better=False)\n",
    "train_and_save_model(prefix, seed, models_and_params[model_name], cv=5, scoring=neg_mse_scorer, task = 'regression')"
   ]
  },
  {
   "cell_type": "code",
   "execution_count": null,
   "id": "76897bfa-10cb-483a-8d04-22df0357f579",
   "metadata": {},
   "outputs": [],
   "source": [
    "prefix = 'ga_res_cpg_pr_est'\n",
    "load_and_predict(prefix)"
   ]
  },
  {
   "cell_type": "code",
   "execution_count": null,
   "id": "15fb5eaf-cfbd-4409-9ba7-4d0ee0f4b7e2",
   "metadata": {
    "scrolled": true
   },
   "outputs": [],
   "source": [
    "prefix = 'ga_res_cpg_thr_est'\n",
    "model_name = 'ElasticNet'\n",
    "neg_mse_scorer = make_scorer(mean_squared_error, greater_is_better=False)\n",
    "train_and_save_model(prefix, seed, models_and_params[model_name], cv=5, scoring=neg_mse_scorer, task = 'regression')"
   ]
  },
  {
   "cell_type": "code",
   "execution_count": null,
   "id": "1c2940d5-0215-4f38-b67b-06f744cb2d3f",
   "metadata": {},
   "outputs": [],
   "source": [
    "prefix = 'ga_res_cpg_thr_est'\n",
    "load_and_predict(prefix)"
   ]
  },
  {
   "cell_type": "code",
   "execution_count": null,
   "id": "a4d143d0-8eb6-4ab1-9fb0-ae97a369221f",
   "metadata": {},
   "outputs": [],
   "source": [
    "prefix = 'ga_res_cpg_t_est'\n",
    "model_name = 'ElasticNet'\n",
    "neg_mse_scorer = make_scorer(mean_squared_error, greater_is_better=False)\n",
    "train_and_save_model(prefix, seed, models_and_params[model_name], cv=5, scoring=neg_mse_scorer, task = 'regression')"
   ]
  },
  {
   "cell_type": "code",
   "execution_count": null,
   "id": "1e65cfdb-7061-4b1b-bbdc-da7ce61d464a",
   "metadata": {},
   "outputs": [],
   "source": [
    "prefix = 'ga_res_cpg_t_est'\n",
    "load_and_predict(prefix)"
   ]
  },
  {
   "cell_type": "markdown",
   "id": "7f2121d2-ba96-491c-847d-5fe587ac9674",
   "metadata": {},
   "source": [
    "### GA res-conds prediction"
   ]
  },
  {
   "cell_type": "code",
   "execution_count": null,
   "id": "73f644b0-7b46-466e-8974-f5314086ce70",
   "metadata": {},
   "outputs": [],
   "source": [
    "prefix = 'ga_res_conds_fgr_est'\n",
    "model_name = 'ElasticNet'\n",
    "neg_mse_scorer = make_scorer(mean_squared_error, greater_is_better=False)\n",
    "train_and_save_model(prefix, seed, models_and_params[model_name], cv=5, scoring=neg_mse_scorer, task = 'regression')"
   ]
  },
  {
   "cell_type": "code",
   "execution_count": null,
   "id": "6ad3dfc9-859f-4e50-9e9a-9ed353fac4a2",
   "metadata": {},
   "outputs": [],
   "source": [
    "prefix = 'ga_res_conds_fgr_est'\n",
    "load_and_predict(prefix)"
   ]
  },
  {
   "cell_type": "code",
   "execution_count": null,
   "id": "089b1b35-e215-42de-a1e9-6d79ac60aef3",
   "metadata": {},
   "outputs": [],
   "source": [
    "prefix = 'ga_res_conds_fgr_est'\n",
    "save_model_coefficients(prefix)"
   ]
  },
  {
   "cell_type": "code",
   "execution_count": null,
   "id": "b5fbe528-95ea-4577-9701-1a9f22782da8",
   "metadata": {},
   "outputs": [],
   "source": [
    "prefix = 'ga_res_conds_pe_est'\n",
    "model_name = 'ElasticNet'\n",
    "neg_mse_scorer = make_scorer(mean_squared_error, greater_is_better=False)\n",
    "train_and_save_model(prefix, seed, models_and_params[model_name], cv=5, scoring=neg_mse_scorer, task = 'regression')"
   ]
  },
  {
   "cell_type": "code",
   "execution_count": null,
   "id": "f3b76711-b5d6-4c1c-96bd-fed2578f2c21",
   "metadata": {},
   "outputs": [],
   "source": [
    "prefix = 'ga_res_conds_pe_est'\n",
    "load_and_predict(prefix)"
   ]
  },
  {
   "cell_type": "code",
   "execution_count": null,
   "id": "f0c70178-5117-4ea4-881b-3b23fa7df9d8",
   "metadata": {},
   "outputs": [],
   "source": [
    "prefix = 'ga_res_conds_pe_est'\n",
    "save_model_coefficients(prefix)"
   ]
  },
  {
   "cell_type": "code",
   "execution_count": null,
   "id": "6ad04136-31d4-491d-9bcc-3af810b0500f",
   "metadata": {},
   "outputs": [],
   "source": [
    "prefix = 'ga_res_conds_pe_onset_est'\n",
    "model_name = 'ElasticNet'\n",
    "neg_mse_scorer = make_scorer(mean_squared_error, greater_is_better=False)\n",
    "train_and_save_model(prefix, seed, models_and_params[model_name], cv=5, scoring=neg_mse_scorer, task = 'regression')"
   ]
  },
  {
   "cell_type": "code",
   "execution_count": null,
   "id": "c5dfd41b-960d-490e-9bd1-53eef2320ba8",
   "metadata": {},
   "outputs": [],
   "source": [
    "prefix = 'ga_res_conds_pe_onset_est'\n",
    "load_and_predict(prefix)"
   ]
  },
  {
   "cell_type": "code",
   "execution_count": null,
   "id": "e44704c3-2410-4706-bf34-2d4c398d6b35",
   "metadata": {},
   "outputs": [],
   "source": [
    "prefix = 'ga_res_conds_pe_onset_est'\n",
    "save_model_coefficients(prefix)"
   ]
  },
  {
   "cell_type": "code",
   "execution_count": null,
   "id": "2d4a11eb-41e4-44ac-a8e7-317286c112ec",
   "metadata": {},
   "outputs": [],
   "source": [
    "prefix = 'ga_res_conds_hellp_est'\n",
    "model_name = 'ElasticNet'\n",
    "neg_mse_scorer = make_scorer(mean_squared_error, greater_is_better=False)\n",
    "train_and_save_model(prefix, seed, models_and_params[model_name], cv=5, scoring=neg_mse_scorer, task = 'regression')"
   ]
  },
  {
   "cell_type": "code",
   "execution_count": null,
   "id": "76170891-b0e8-4d9a-ad69-a50219eb9ee8",
   "metadata": {},
   "outputs": [],
   "source": [
    "prefix = 'ga_res_conds_hellp_est'\n",
    "load_and_predict(prefix)"
   ]
  },
  {
   "cell_type": "code",
   "execution_count": null,
   "id": "392b72a0-3c86-4540-baab-456db87778f2",
   "metadata": {},
   "outputs": [],
   "source": [
    "prefix = 'ga_res_conds_hellp_est'\n",
    "save_model_coefficients(prefix)"
   ]
  },
  {
   "cell_type": "code",
   "execution_count": null,
   "id": "63f2a40e-9f94-43e0-a18f-c40002002bb9",
   "metadata": {},
   "outputs": [],
   "source": [
    "prefix = 'ga_res_conds_anencephaly_est'\n",
    "model_name = 'ElasticNet'\n",
    "neg_mse_scorer = make_scorer(mean_squared_error, greater_is_better=False)\n",
    "train_and_save_model(prefix, seed, models_and_params[model_name], cv=5, scoring=neg_mse_scorer, task = 'regression')"
   ]
  },
  {
   "cell_type": "code",
   "execution_count": null,
   "id": "a7e6962c-4c41-4da4-bcf2-78718ccff7c0",
   "metadata": {},
   "outputs": [],
   "source": [
    "prefix = 'ga_res_conds_anencephaly_est'\n",
    "load_and_predict(prefix)"
   ]
  },
  {
   "cell_type": "code",
   "execution_count": null,
   "id": "cd590a9e-62dd-427b-a189-07154e6a2ba3",
   "metadata": {},
   "outputs": [],
   "source": [
    "prefix = 'ga_res_conds_anencephaly_est'\n",
    "save_model_coefficients(prefix)"
   ]
  },
  {
   "cell_type": "code",
   "execution_count": null,
   "id": "6a3c2b09-8828-4467-8f4a-34351eae6b8e",
   "metadata": {},
   "outputs": [],
   "source": [
    "prefix = 'ga_res_conds_spina_bifida_est'\n",
    "model_name = 'ElasticNet'\n",
    "neg_mse_scorer = make_scorer(mean_squared_error, greater_is_better=False)\n",
    "train_and_save_model(prefix, seed, models_and_params[model_name], cv=5, scoring=neg_mse_scorer, task = 'regression')"
   ]
  },
  {
   "cell_type": "code",
   "execution_count": null,
   "id": "00f45758-0433-4e0a-b8ea-e7ebe02c3440",
   "metadata": {},
   "outputs": [],
   "source": [
    "prefix = 'ga_res_conds_spina_bifida_est'\n",
    "load_and_predict(prefix)"
   ]
  },
  {
   "cell_type": "code",
   "execution_count": null,
   "id": "3cf2a4c2-bd31-4c3d-85c8-5d095e282153",
   "metadata": {},
   "outputs": [],
   "source": [
    "prefix = 'ga_res_conds_spina_bifida_est'\n",
    "save_model_coefficients(prefix)"
   ]
  },
  {
   "cell_type": "code",
   "execution_count": null,
   "id": "2db87d1a-c3c4-4432-8fba-adb3447b833f",
   "metadata": {},
   "outputs": [],
   "source": [
    "prefix = 'ga_res_conds_diandric_triploid_est'\n",
    "model_name = 'ElasticNet'\n",
    "neg_mse_scorer = make_scorer(mean_squared_error, greater_is_better=False)\n",
    "train_and_save_model(prefix, seed, models_and_params[model_name], cv=3, scoring=neg_mse_scorer, task = 'regression')"
   ]
  },
  {
   "cell_type": "code",
   "execution_count": null,
   "id": "479f85b4-7507-40e6-b059-cb515d0e2263",
   "metadata": {},
   "outputs": [],
   "source": [
    "prefix = 'ga_res_conds_diandric_triploid_est'\n",
    "load_and_predict(prefix)"
   ]
  },
  {
   "cell_type": "code",
   "execution_count": null,
   "id": "f4a10edf-affa-48e1-b049-1bdcfbdd16bb",
   "metadata": {},
   "outputs": [],
   "source": [
    "prefix = 'ga_res_conds_diandric_triploid_est'\n",
    "save_model_coefficients(prefix)"
   ]
  },
  {
   "cell_type": "code",
   "execution_count": null,
   "id": "5c4a963b-d0d2-4404-80eb-675cc364fddf",
   "metadata": {},
   "outputs": [],
   "source": [
    "prefix = 'ga_res_conds_miscarriage_est'\n",
    "model_name = 'ElasticNet'\n",
    "neg_mse_scorer = make_scorer(mean_squared_error, greater_is_better=False)\n",
    "train_and_save_model(prefix, seed, models_and_params[model_name], cv=5, scoring=neg_mse_scorer, task = 'regression')"
   ]
  },
  {
   "cell_type": "code",
   "execution_count": null,
   "id": "c535e162-892d-4dab-8d4f-4c4ab1538329",
   "metadata": {},
   "outputs": [],
   "source": [
    "prefix = 'ga_res_conds_miscarriage_est'\n",
    "load_and_predict(prefix)"
   ]
  },
  {
   "cell_type": "code",
   "execution_count": null,
   "id": "b4ae6b5e-8b04-46f8-ad80-d04ea16b9c4b",
   "metadata": {},
   "outputs": [],
   "source": [
    "prefix = 'ga_res_conds_miscarriage_est'\n",
    "save_model_coefficients(prefix)"
   ]
  },
  {
   "cell_type": "code",
   "execution_count": null,
   "id": "30fa9b11-f6fb-49f8-856e-6f4240e2d6ad",
   "metadata": {},
   "outputs": [],
   "source": [
    "prefix = 'ga_res_conds_preterm_est'\n",
    "model_name = 'ElasticNet'\n",
    "neg_mse_scorer = make_scorer(mean_squared_error, greater_is_better=False)\n",
    "train_and_save_model(prefix, seed, models_and_params[model_name], cv=5, scoring=neg_mse_scorer, task = 'regression')"
   ]
  },
  {
   "cell_type": "code",
   "execution_count": null,
   "id": "a71e9b6b-21fb-4b26-9fc9-5752b29c94c8",
   "metadata": {},
   "outputs": [],
   "source": [
    "prefix = 'ga_res_conds_preterm_est'\n",
    "load_and_predict(prefix)"
   ]
  },
  {
   "cell_type": "code",
   "execution_count": null,
   "id": "80c6dc52-bfa6-41c9-9b47-d7e145c328f4",
   "metadata": {},
   "outputs": [],
   "source": [
    "prefix = 'ga_res_conds_preterm_est'\n",
    "save_model_coefficients(prefix)"
   ]
  },
  {
   "cell_type": "code",
   "execution_count": null,
   "id": "8977edc4-a6c7-47a1-9e14-d8cf57d6c846",
   "metadata": {},
   "outputs": [],
   "source": [
    "prefix = 'ga_res_conds_gdm_est'\n",
    "model_name = 'ElasticNet'\n",
    "neg_mse_scorer = make_scorer(mean_squared_error, greater_is_better=False)\n",
    "train_and_save_model(prefix, seed, models_and_params[model_name], cv=5, scoring=neg_mse_scorer, task = 'regression')"
   ]
  },
  {
   "cell_type": "code",
   "execution_count": null,
   "id": "29932361-7ed6-468f-ab49-430efb9e5c5f",
   "metadata": {},
   "outputs": [],
   "source": [
    "prefix = 'ga_res_conds_gdm_est'\n",
    "load_and_predict(prefix)"
   ]
  },
  {
   "cell_type": "code",
   "execution_count": null,
   "id": "6e311807-68bf-4084-a947-7be8b90568b4",
   "metadata": {},
   "outputs": [],
   "source": [
    "prefix = 'ga_res_conds_gdm_est'\n",
    "save_model_coefficients(prefix)"
   ]
  },
  {
   "cell_type": "code",
   "execution_count": null,
   "id": "f52cc909-2edf-430d-9c96-7d8d0f4087e3",
   "metadata": {},
   "outputs": [],
   "source": [
    "prefix = 'ga_res_conds_lga_est'\n",
    "model_name = 'ElasticNet'\n",
    "neg_mse_scorer = make_scorer(mean_squared_error, greater_is_better=False)\n",
    "train_and_save_model(prefix, seed, models_and_params[model_name], cv=5, scoring=neg_mse_scorer, task = 'regression')"
   ]
  },
  {
   "cell_type": "code",
   "execution_count": null,
   "id": "46de3d78-2fc0-4763-adc6-026df119fd88",
   "metadata": {},
   "outputs": [],
   "source": [
    "prefix = 'ga_res_conds_lga_est'\n",
    "load_and_predict(prefix)"
   ]
  },
  {
   "cell_type": "code",
   "execution_count": null,
   "id": "c63a7bb8-af37-4062-a653-d3acfe5110f8",
   "metadata": {},
   "outputs": [],
   "source": [
    "prefix = 'ga_res_conds_lga_est'\n",
    "save_model_coefficients(prefix)"
   ]
  },
  {
   "cell_type": "code",
   "execution_count": null,
   "id": "483723dd-6aa6-4ffd-bcf3-3bdaee358a4b",
   "metadata": {},
   "outputs": [],
   "source": [
    "prefix = 'ga_res_conds_subfertility_est'\n",
    "model_name = 'ElasticNet'\n",
    "neg_mse_scorer = make_scorer(mean_squared_error, greater_is_better=False)\n",
    "train_and_save_model(prefix, seed, models_and_params[model_name], cv=5, scoring=neg_mse_scorer, task = 'regression')"
   ]
  },
  {
   "cell_type": "code",
   "execution_count": null,
   "id": "267df3ce-8ea0-4b3d-877c-be754f0b467a",
   "metadata": {},
   "outputs": [],
   "source": [
    "prefix = 'ga_res_conds_subfertility_est'\n",
    "load_and_predict(prefix)"
   ]
  },
  {
   "cell_type": "code",
   "execution_count": null,
   "id": "4ba0c019-6c1f-4640-8f6f-d1ca4e19255f",
   "metadata": {},
   "outputs": [],
   "source": [
    "prefix = 'ga_res_conds_subfertility_est'\n",
    "save_model_coefficients(prefix)"
   ]
  },
  {
   "cell_type": "code",
   "execution_count": null,
   "id": "f8dbea52-b7f6-4244-84f6-ff4ff0236b8f",
   "metadata": {},
   "outputs": [],
   "source": [
    "prefix = 'ga_res_conds_chorioamnionitis_est'\n",
    "model_name = 'ElasticNet'\n",
    "neg_mse_scorer = make_scorer(mean_squared_error, greater_is_better=False)\n",
    "train_and_save_model(prefix, seed, models_and_params[model_name], cv=5, scoring=neg_mse_scorer, task = 'regression')"
   ]
  },
  {
   "cell_type": "code",
   "execution_count": null,
   "id": "5714a77d-e26a-4bf3-b65a-3fefe777fb34",
   "metadata": {},
   "outputs": [],
   "source": [
    "prefix = 'ga_res_conds_chorioamnionitis_est'\n",
    "load_and_predict(prefix)"
   ]
  },
  {
   "cell_type": "code",
   "execution_count": null,
   "id": "9eaef042-1936-4d5d-80f4-30cc2e7a489e",
   "metadata": {},
   "outputs": [],
   "source": [
    "prefix = 'ga_res_conds_chorioamnionitis_est'\n",
    "save_model_coefficients(prefix)"
   ]
  },
  {
   "cell_type": "code",
   "execution_count": null,
   "id": "3b16f403-3e2b-4661-a4f6-b74538626f53",
   "metadata": {},
   "outputs": [],
   "source": [
    "prefix = 'ga_res_conds_true_est'\n",
    "model_name = 'ElasticNet'\n",
    "neg_mse_scorer = make_scorer(mean_squared_error, greater_is_better=False)\n",
    "train_and_save_model(prefix, seed, models_and_params[model_name], cv=5, scoring=neg_mse_scorer, task = 'regression')"
   ]
  },
  {
   "cell_type": "code",
   "execution_count": null,
   "id": "f7c50ff0-cc34-4d26-a4a6-0e20277231cc",
   "metadata": {},
   "outputs": [],
   "source": [
    "prefix = 'ga_res_conds_true_est'\n",
    "load_and_predict(prefix)"
   ]
  },
  {
   "cell_type": "code",
   "execution_count": null,
   "id": "5a3eeaf2-226f-49c1-8858-da74026a60fa",
   "metadata": {},
   "outputs": [],
   "source": [
    "prefix = 'ga_res_conds_imp_est'\n",
    "model_name = 'ElasticNet'\n",
    "neg_mse_scorer = make_scorer(mean_squared_error, greater_is_better=False)\n",
    "train_and_save_model(prefix, seed, models_and_params[model_name], cv=5, scoring=neg_mse_scorer, task = 'regression')"
   ]
  },
  {
   "cell_type": "code",
   "execution_count": null,
   "id": "a0ed3300-710b-4081-86f9-77cf5c08a8af",
   "metadata": {},
   "outputs": [],
   "source": [
    "prefix = 'ga_res_conds_imp_est'\n",
    "load_and_predict(prefix)"
   ]
  },
  {
   "cell_type": "code",
   "execution_count": null,
   "id": "111785ce-7700-46f8-afba-9d6ea3f9a175",
   "metadata": {},
   "outputs": [],
   "source": [
    "prefix = 'ga_res_conds_pred_est'\n",
    "model_name = 'ElasticNet'\n",
    "neg_mse_scorer = make_scorer(mean_squared_error, greater_is_better=False)\n",
    "train_and_save_model(prefix, seed, models_and_params[model_name], cv=5, scoring=neg_mse_scorer, task = 'regression')"
   ]
  },
  {
   "cell_type": "code",
   "execution_count": null,
   "id": "61d8775f-5d0f-4d84-b68b-d504923e68dd",
   "metadata": {},
   "outputs": [],
   "source": [
    "prefix = 'ga_res_conds_pred_est'\n",
    "load_and_predict(prefix)"
   ]
  },
  {
   "cell_type": "code",
   "execution_count": null,
   "id": "e96d702f-f5c7-4363-b583-765820e26b18",
   "metadata": {},
   "outputs": [],
   "source": [
    "prefix = 'ga_res_conds_null_est'\n",
    "model_name = 'ElasticNet'\n",
    "neg_mse_scorer = make_scorer(mean_squared_error, greater_is_better=False)\n",
    "train_and_save_model(prefix, seed, models_and_params[model_name], cv=5, scoring=neg_mse_scorer, task = 'regression')"
   ]
  },
  {
   "cell_type": "code",
   "execution_count": null,
   "id": "228e348f-6135-4bea-98a0-574bc5a7c9b3",
   "metadata": {},
   "outputs": [],
   "source": [
    "prefix = 'ga_res_conds_null_est'\n",
    "load_and_predict(prefix)"
   ]
  },
  {
   "cell_type": "markdown",
   "id": "f29d9a6e-5a7d-4cf0-9a5c-75ed9f817de5",
   "metadata": {},
   "source": [
    "### GA res-comb prediction"
   ]
  },
  {
   "cell_type": "code",
   "execution_count": null,
   "id": "4530016e-1a5c-4df4-b856-fa0167262483",
   "metadata": {},
   "outputs": [],
   "source": [
    "prefix = 'ga_res_comb_pr_est'\n",
    "model_name = 'ElasticNet'\n",
    "neg_mse_scorer = make_scorer(mean_squared_error, greater_is_better=False)\n",
    "train_and_save_model(prefix, seed, models_and_params[model_name], cv=5, scoring=neg_mse_scorer, task = 'regression')"
   ]
  },
  {
   "cell_type": "code",
   "execution_count": null,
   "id": "84dc9767-7a0b-4614-a357-24da130d8e08",
   "metadata": {},
   "outputs": [],
   "source": [
    "prefix = 'ga_res_comb_pr_est'\n",
    "load_and_predict(prefix)"
   ]
  },
  {
   "cell_type": "code",
   "execution_count": null,
   "id": "d0f109b6-a642-415c-8cf5-3e754112af1f",
   "metadata": {},
   "outputs": [],
   "source": [
    "prefix = 'ga_res_comb_pr_est'\n",
    "save_model_coefficients(prefix)"
   ]
  },
  {
   "cell_type": "code",
   "execution_count": null,
   "id": "44ff6da3-63c4-4b99-b281-67b24c254643",
   "metadata": {
    "scrolled": true
   },
   "outputs": [],
   "source": [
    "prefix = 'ga_res_comb_tb_est'\n",
    "model_name = 'ElasticNet'\n",
    "neg_mse_scorer = make_scorer(mean_squared_error, greater_is_better=False)\n",
    "train_and_save_model(prefix, seed, models_and_params[model_name], cv=5, scoring=neg_mse_scorer, task = 'regression')"
   ]
  },
  {
   "cell_type": "code",
   "execution_count": null,
   "id": "30e7dfa0-dcc2-44e6-a94e-ec6786e0d77e",
   "metadata": {},
   "outputs": [],
   "source": [
    "prefix = 'ga_res_comb_tb_est'\n",
    "load_and_predict(prefix)"
   ]
  },
  {
   "cell_type": "code",
   "execution_count": null,
   "id": "cbe8bd37-0aea-42b0-9c6c-a1bdbc7528d9",
   "metadata": {},
   "outputs": [],
   "source": [
    "prefix = 'ga_res_comb_tb_est'\n",
    "save_model_coefficients(prefix)"
   ]
  },
  {
   "cell_type": "code",
   "execution_count": null,
   "id": "02c11a02-55c2-4c46-992d-536f5c44973e",
   "metadata": {},
   "outputs": [],
   "source": [
    "prefix = 'ga_res_comb_ta_est'\n",
    "model_name = 'ElasticNet'\n",
    "neg_mse_scorer = make_scorer(mean_squared_error, greater_is_better=False)\n",
    "train_and_save_model(prefix, seed, models_and_params[model_name], cv=5, scoring=neg_mse_scorer, task = 'regression')"
   ]
  },
  {
   "cell_type": "code",
   "execution_count": null,
   "id": "f2dfed89-e63e-42af-9436-8f79afb501fd",
   "metadata": {},
   "outputs": [],
   "source": [
    "prefix = 'ga_res_comb_ta_est'\n",
    "load_and_predict(prefix)"
   ]
  },
  {
   "cell_type": "code",
   "execution_count": null,
   "id": "cfac085c-e60c-4372-8493-2dd7f0bbdc44",
   "metadata": {},
   "outputs": [],
   "source": [
    "prefix = 'ga_res_comb_ta_est'\n",
    "save_model_coefficients(prefix)"
   ]
  },
  {
   "cell_type": "markdown",
   "id": "9d0a1232-217c-4818-aba2-d19aa76a1dbb",
   "metadata": {},
   "source": [
    "### GA res-cpg-comb prediction"
   ]
  },
  {
   "cell_type": "code",
   "execution_count": null,
   "id": "1924d31e-90cb-4383-8d4d-9767a8430206",
   "metadata": {},
   "outputs": [],
   "source": [
    "prefix = 'ga_res_cpg_comb_fgr_est'\n",
    "model_name = 'ElasticNet'\n",
    "neg_mse_scorer = make_scorer(mean_squared_error, greater_is_better=False)\n",
    "train_and_save_model(prefix, seed, models_and_params[model_name], cv=5, scoring=neg_mse_scorer, task = 'regression')"
   ]
  },
  {
   "cell_type": "code",
   "execution_count": null,
   "id": "9ff4a8bf-db46-4a3f-8aab-df9c863ccb3e",
   "metadata": {},
   "outputs": [],
   "source": [
    "prefix = 'ga_res_cpg_comb_fgr_est'\n",
    "load_and_predict(prefix)"
   ]
  },
  {
   "cell_type": "code",
   "execution_count": null,
   "id": "9417de99-0058-497f-ad62-12cd3a5f9505",
   "metadata": {},
   "outputs": [],
   "source": [
    "prefix = 'ga_res_cpg_comb_pe_est'\n",
    "model_name = 'ElasticNet'\n",
    "neg_mse_scorer = make_scorer(mean_squared_error, greater_is_better=False)\n",
    "train_and_save_model(prefix, seed, models_and_params[model_name], cv=5, scoring=neg_mse_scorer, task = 'regression')"
   ]
  },
  {
   "cell_type": "code",
   "execution_count": null,
   "id": "741132fa-0112-4690-b484-6a1e049f1133",
   "metadata": {},
   "outputs": [],
   "source": [
    "prefix = 'ga_res_cpg_comb_pe_est'\n",
    "load_and_predict(prefix)"
   ]
  },
  {
   "cell_type": "code",
   "execution_count": null,
   "id": "a4a0cb3e-a944-42a5-9d77-77b12768b98f",
   "metadata": {},
   "outputs": [],
   "source": [
    "prefix = 'ga_res_cpg_comb_pe_onset_est'\n",
    "model_name = 'ElasticNet'\n",
    "neg_mse_scorer = make_scorer(mean_squared_error, greater_is_better=False)\n",
    "train_and_save_model(prefix, seed, models_and_params[model_name], cv=5, scoring=neg_mse_scorer, task = 'regression')"
   ]
  },
  {
   "cell_type": "code",
   "execution_count": null,
   "id": "2c630064-7a4e-4155-99b4-630a4e7de0d4",
   "metadata": {},
   "outputs": [],
   "source": [
    "prefix = 'ga_res_cpg_comb_pe_onset_est'\n",
    "load_and_predict(prefix)"
   ]
  },
  {
   "cell_type": "code",
   "execution_count": null,
   "id": "12b85583-7cdf-4ee0-b4e3-1635fca21070",
   "metadata": {},
   "outputs": [],
   "source": [
    "prefix = 'ga_res_cpg_comb_hellp_est'\n",
    "model_name = 'ElasticNet'\n",
    "neg_mse_scorer = make_scorer(mean_squared_error, greater_is_better=False)\n",
    "train_and_save_model(prefix, seed, models_and_params[model_name], cv=5, scoring=neg_mse_scorer, task = 'regression')"
   ]
  },
  {
   "cell_type": "code",
   "execution_count": null,
   "id": "65402c35-96e2-4bee-beb5-69dc3e54da9d",
   "metadata": {},
   "outputs": [],
   "source": [
    "prefix = 'ga_res_cpg_comb_hellp_est'\n",
    "load_and_predict(prefix)"
   ]
  },
  {
   "cell_type": "code",
   "execution_count": null,
   "id": "291bfec5-1846-4103-9234-30cf78e72862",
   "metadata": {},
   "outputs": [],
   "source": [
    "prefix = 'ga_res_cpg_comb_anencephaly_est'\n",
    "model_name = 'ElasticNet'\n",
    "neg_mse_scorer = make_scorer(mean_squared_error, greater_is_better=False)\n",
    "train_and_save_model(prefix, seed, models_and_params[model_name], cv=5, scoring=neg_mse_scorer, task = 'regression')"
   ]
  },
  {
   "cell_type": "code",
   "execution_count": null,
   "id": "5101c8c9-9e88-4ce5-a280-e936df58c37a",
   "metadata": {},
   "outputs": [],
   "source": [
    "prefix = 'ga_res_cpg_comb_anencephaly_est'\n",
    "load_and_predict(prefix)"
   ]
  },
  {
   "cell_type": "code",
   "execution_count": null,
   "id": "5169b4a1-9265-46ee-9a0e-99fb8c92ef7f",
   "metadata": {},
   "outputs": [],
   "source": [
    "prefix = 'ga_res_cpg_comb_spina_bifida_est'\n",
    "model_name = 'ElasticNet'\n",
    "neg_mse_scorer = make_scorer(mean_squared_error, greater_is_better=False)\n",
    "train_and_save_model(prefix, seed, models_and_params[model_name], cv=5, scoring=neg_mse_scorer, task = 'regression')"
   ]
  },
  {
   "cell_type": "code",
   "execution_count": null,
   "id": "0ce1fb81-666b-479b-b32f-dd52b681c17c",
   "metadata": {},
   "outputs": [],
   "source": [
    "prefix = 'ga_res_cpg_comb_spina_bifida_est'\n",
    "load_and_predict(prefix)"
   ]
  },
  {
   "cell_type": "code",
   "execution_count": null,
   "id": "27905196-ca2d-45cc-a79c-ea522ecef14a",
   "metadata": {},
   "outputs": [],
   "source": [
    "prefix = 'ga_res_cpg_comb_diandric_triploid_est'\n",
    "model_name = 'ElasticNet'\n",
    "neg_mse_scorer = make_scorer(mean_squared_error, greater_is_better=False)\n",
    "train_and_save_model(prefix, seed, models_and_params[model_name], cv=3, scoring=neg_mse_scorer, task = 'regression')"
   ]
  },
  {
   "cell_type": "code",
   "execution_count": null,
   "id": "dd10a9ab-3a5f-4cdd-b84b-bd30aaeb9a84",
   "metadata": {},
   "outputs": [],
   "source": [
    "prefix = 'ga_res_cpg_comb_diandric_triploid_est'\n",
    "load_and_predict(prefix)"
   ]
  },
  {
   "cell_type": "code",
   "execution_count": null,
   "id": "fc730c0e-6b99-4aa3-a9b4-2eaed26d1109",
   "metadata": {},
   "outputs": [],
   "source": [
    "prefix = 'ga_res_cpg_comb_miscarriage_est'\n",
    "model_name = 'ElasticNet'\n",
    "neg_mse_scorer = make_scorer(mean_squared_error, greater_is_better=False)\n",
    "train_and_save_model(prefix, seed, models_and_params[model_name], cv=5, scoring=neg_mse_scorer, task = 'regression')"
   ]
  },
  {
   "cell_type": "code",
   "execution_count": null,
   "id": "5a915ee7-6aa7-4ec8-8907-0884d36c2f9d",
   "metadata": {},
   "outputs": [],
   "source": [
    "prefix = 'ga_res_cpg_comb_miscarriage_est'\n",
    "load_and_predict(prefix)"
   ]
  },
  {
   "cell_type": "code",
   "execution_count": null,
   "id": "f9531052-cf73-48dd-9e94-7d66c91eca3d",
   "metadata": {},
   "outputs": [],
   "source": [
    "prefix = 'ga_res_cpg_comb_preterm_est'\n",
    "model_name = 'ElasticNet'\n",
    "neg_mse_scorer = make_scorer(mean_squared_error, greater_is_better=False)\n",
    "train_and_save_model(prefix, seed, models_and_params[model_name], cv=5, scoring=neg_mse_scorer, task = 'regression')"
   ]
  },
  {
   "cell_type": "code",
   "execution_count": null,
   "id": "0e6336a0-3331-4773-b9f3-6cea5f928104",
   "metadata": {},
   "outputs": [],
   "source": [
    "prefix = 'ga_res_cpg_comb_preterm_est'\n",
    "load_and_predict(prefix)"
   ]
  },
  {
   "cell_type": "code",
   "execution_count": null,
   "id": "fdc2163e-3b9c-448e-ac95-88bbbf75bc53",
   "metadata": {},
   "outputs": [],
   "source": [
    "prefix = 'ga_res_cpg_comb_gdm_est'\n",
    "model_name = 'ElasticNet'\n",
    "neg_mse_scorer = make_scorer(mean_squared_error, greater_is_better=False)\n",
    "train_and_save_model(prefix, seed, models_and_params[model_name], cv=5, scoring=neg_mse_scorer, task = 'regression')"
   ]
  },
  {
   "cell_type": "code",
   "execution_count": null,
   "id": "d5744a0c-3024-4b74-b1d7-a5b2f9ee80a9",
   "metadata": {},
   "outputs": [],
   "source": [
    "prefix = 'ga_res_cpg_comb_gdm_est'\n",
    "load_and_predict(prefix)"
   ]
  },
  {
   "cell_type": "code",
   "execution_count": null,
   "id": "3c2ba77b-62e1-4a5f-8664-fa899c148c87",
   "metadata": {},
   "outputs": [],
   "source": [
    "prefix = 'ga_res_cpg_comb_lga_est'\n",
    "model_name = 'ElasticNet'\n",
    "neg_mse_scorer = make_scorer(mean_squared_error, greater_is_better=False)\n",
    "train_and_save_model(prefix, seed, models_and_params[model_name], cv=5, scoring=neg_mse_scorer, task = 'regression')"
   ]
  },
  {
   "cell_type": "code",
   "execution_count": null,
   "id": "05547594-4b46-489f-b336-26522d1f08d7",
   "metadata": {},
   "outputs": [],
   "source": [
    "prefix = 'ga_res_cpg_comb_lga_est'\n",
    "load_and_predict(prefix)"
   ]
  },
  {
   "cell_type": "code",
   "execution_count": null,
   "id": "09cd7dde-fb99-4467-bee4-9e5adc63563d",
   "metadata": {},
   "outputs": [],
   "source": [
    "prefix = 'ga_res_cpg_comb_subfertility_est'\n",
    "model_name = 'ElasticNet'\n",
    "neg_mse_scorer = make_scorer(mean_squared_error, greater_is_better=False)\n",
    "train_and_save_model(prefix, seed, models_and_params[model_name], cv=5, scoring=neg_mse_scorer, task = 'regression')"
   ]
  },
  {
   "cell_type": "code",
   "execution_count": null,
   "id": "c3bd0af3-d9fb-4790-beee-d58bf8cf83c5",
   "metadata": {},
   "outputs": [],
   "source": [
    "prefix = 'ga_res_cpg_comb_subfertility_est'\n",
    "load_and_predict(prefix)"
   ]
  },
  {
   "cell_type": "code",
   "execution_count": null,
   "id": "00aba2e6-8a76-45e1-bbd3-e84bb7ded72e",
   "metadata": {},
   "outputs": [],
   "source": [
    "prefix = 'ga_res_cpg_comb_chorioamnionitis_est'\n",
    "model_name = 'ElasticNet'\n",
    "neg_mse_scorer = make_scorer(mean_squared_error, greater_is_better=False)\n",
    "train_and_save_model(prefix, seed, models_and_params[model_name], cv=5, scoring=neg_mse_scorer, task = 'regression')"
   ]
  },
  {
   "cell_type": "code",
   "execution_count": null,
   "id": "fc33add7-881c-4fdf-a819-a97fc28b9b30",
   "metadata": {},
   "outputs": [],
   "source": [
    "prefix = 'ga_res_cpg_comb_chorioamnionitis_est'\n",
    "load_and_predict(prefix)"
   ]
  },
  {
   "cell_type": "code",
   "execution_count": null,
   "id": "4735f7da-221c-4f88-a1e2-41ae1b0b4da9",
   "metadata": {},
   "outputs": [],
   "source": [
    "prefix = 'ga_res_cpg_comb_true_est'\n",
    "model_name = 'ElasticNet'\n",
    "neg_mse_scorer = make_scorer(mean_squared_error, greater_is_better=False)\n",
    "train_and_save_model(prefix, seed, models_and_params[model_name], cv=5, scoring=neg_mse_scorer, task = 'regression')"
   ]
  },
  {
   "cell_type": "code",
   "execution_count": null,
   "id": "b189106b-71ba-422c-8fc5-a1388f61378f",
   "metadata": {},
   "outputs": [],
   "source": [
    "prefix = 'ga_res_cpg_comb_true_est'\n",
    "load_and_predict(prefix)"
   ]
  },
  {
   "cell_type": "code",
   "execution_count": null,
   "id": "1c728071-4509-4cac-909b-10e22f94229d",
   "metadata": {},
   "outputs": [],
   "source": [
    "prefix = 'ga_res_cpg_comb_imp_est'\n",
    "model_name = 'ElasticNet'\n",
    "neg_mse_scorer = make_scorer(mean_squared_error, greater_is_better=False)\n",
    "train_and_save_model(prefix, seed, models_and_params[model_name], cv=5, scoring=neg_mse_scorer, task = 'regression')"
   ]
  },
  {
   "cell_type": "code",
   "execution_count": null,
   "id": "6776e2f5-6e10-4c39-9aa1-355c7e55da4b",
   "metadata": {},
   "outputs": [],
   "source": [
    "prefix = 'ga_res_cpg_comb_imp_est'\n",
    "load_and_predict(prefix)"
   ]
  },
  {
   "cell_type": "code",
   "execution_count": null,
   "id": "229ece69-6aa3-472c-9017-fce208d7d13e",
   "metadata": {},
   "outputs": [],
   "source": [
    "prefix = 'ga_res_cpg_comb_pred_est'\n",
    "model_name = 'ElasticNet'\n",
    "neg_mse_scorer = make_scorer(mean_squared_error, greater_is_better=False)\n",
    "train_and_save_model(prefix, seed, models_and_params[model_name], cv=5, scoring=neg_mse_scorer, task = 'regression')"
   ]
  },
  {
   "cell_type": "code",
   "execution_count": null,
   "id": "e89d7819-8ad2-4ed0-b814-2a8bac90a638",
   "metadata": {},
   "outputs": [],
   "source": [
    "prefix = 'ga_res_cpg_comb_pred_est'\n",
    "load_and_predict(prefix)"
   ]
  },
  {
   "cell_type": "code",
   "execution_count": null,
   "id": "779fc909-6fbd-4f41-a3a2-6b4284c8c320",
   "metadata": {},
   "outputs": [],
   "source": [
    "prefix = 'ga_res_cpg_comb_null_est'\n",
    "model_name = 'ElasticNet'\n",
    "neg_mse_scorer = make_scorer(mean_squared_error, greater_is_better=False)\n",
    "train_and_save_model(prefix, seed, models_and_params[model_name], cv=5, scoring=neg_mse_scorer, task = 'regression')"
   ]
  },
  {
   "cell_type": "code",
   "execution_count": null,
   "id": "aeb70b87-500d-4081-98ce-a9d89fc1158d",
   "metadata": {},
   "outputs": [],
   "source": [
    "prefix = 'ga_res_cpg_comb_null_est'\n",
    "load_and_predict(prefix)"
   ]
  }
 ],
 "metadata": {
  "kernelspec": {
   "display_name": "Python 3 (ipykernel)",
   "language": "python",
   "name": "python3"
  },
  "language_info": {
   "codemirror_mode": {
    "name": "ipython",
    "version": 3
   },
   "file_extension": ".py",
   "mimetype": "text/x-python",
   "name": "python",
   "nbconvert_exporter": "python",
   "pygments_lexer": "ipython3",
   "version": "3.12.4"
  }
 },
 "nbformat": 4,
 "nbformat_minor": 5
}
